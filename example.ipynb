{
 "cells": [
  {
   "cell_type": "code",
   "execution_count": 35,
   "id": "245b1cc9",
   "metadata": {},
   "outputs": [],
   "source": [
    "import os\n",
    "import pandas as pd\n",
    "import numpy as np\n",
    "\n",
    "os.makedirs('example', exist_ok=True)"
   ]
  },
  {
   "cell_type": "markdown",
   "id": "776c03d6",
   "metadata": {},
   "source": [
    "Create a metadata table summarizing the GWAS datasets. Here's an example:"
   ]
  },
  {
   "cell_type": "code",
   "execution_count": 36,
   "id": "2b7ae381",
   "metadata": {},
   "outputs": [
    {
     "data": {
      "text/html": [
       "<div>\n",
       "<style scoped>\n",
       "    .dataframe tbody tr th:only-of-type {\n",
       "        vertical-align: middle;\n",
       "    }\n",
       "\n",
       "    .dataframe tbody tr th {\n",
       "        vertical-align: top;\n",
       "    }\n",
       "\n",
       "    .dataframe thead th {\n",
       "        text-align: right;\n",
       "    }\n",
       "</style>\n",
       "<table border=\"1\" class=\"dataframe\">\n",
       "  <thead>\n",
       "    <tr style=\"text-align: right;\">\n",
       "      <th></th>\n",
       "      <th>GWAS</th>\n",
       "      <th>leads</th>\n",
       "      <th>GWAS_path</th>\n",
       "      <th>chr_col</th>\n",
       "      <th>pos_col</th>\n",
       "      <th>beta_col</th>\n",
       "      <th>se_col</th>\n",
       "      <th>file_type</th>\n",
       "      <th>ref_col</th>\n",
       "      <th>alt_col</th>\n",
       "    </tr>\n",
       "  </thead>\n",
       "  <tbody>\n",
       "    <tr>\n",
       "      <th>0</th>\n",
       "      <td>L_HDL_C_pct</td>\n",
       "      <td>example_data/test_lead.tsv</td>\n",
       "      <td>example_data/gwas_test.tsv</td>\n",
       "      <td>CHROM</td>\n",
       "      <td>GENPOS</td>\n",
       "      <td>Effect</td>\n",
       "      <td>StdErr</td>\n",
       "      <td>tsv</td>\n",
       "      <td>ALLELE0</td>\n",
       "      <td>ALLELE1</td>\n",
       "    </tr>\n",
       "  </tbody>\n",
       "</table>\n",
       "</div>"
      ],
      "text/plain": [
       "          GWAS                       leads                   GWAS_path  \\\n",
       "0  L_HDL_C_pct  example_data/test_lead.tsv  example_data/gwas_test.tsv   \n",
       "\n",
       "  chr_col pos_col beta_col  se_col file_type  ref_col  alt_col  \n",
       "0   CHROM  GENPOS   Effect  StdErr       tsv  ALLELE0  ALLELE1  "
      ]
     },
     "execution_count": 36,
     "metadata": {},
     "output_type": "execute_result"
    }
   ],
   "source": [
    "gwas_input_table = pd.read_csv(\"example_data/example_gwas_table.tsv\", sep=\"\\t\")\n",
    "\n",
    "gwas_input_table"
   ]
  },
  {
   "cell_type": "markdown",
   "id": "3e50eae3",
   "metadata": {},
   "source": [
    "Define file paths for saving GWAS signals and summary files."
   ]
  },
  {
   "cell_type": "code",
   "execution_count": 37,
   "id": "4181ce78",
   "metadata": {},
   "outputs": [],
   "source": [
    "gwas_signals_directory = \"example/gwas_signals\"\n",
    "gwas_summary_file = \"example/gwas_summary.tsv\""
   ]
  },
  {
   "cell_type": "markdown",
   "id": "5183d0ee",
   "metadata": {},
   "source": [
    "Generate summary files for each signal and save individual signal data as `.pickle` files."
   ]
  },
  {
   "cell_type": "code",
   "execution_count": 38,
   "id": "0d3d0576",
   "metadata": {},
   "outputs": [
    {
     "name": "stderr",
     "output_type": "stream",
     "text": [
      "/var/folders/g4/mx686c290ms3_t_t0prfdknc0000gn/T/ipykernel_1328/825445506.py:51: SettingWithCopyWarning: \n",
      "A value is trying to be set on a copy of a slice from a DataFrame.\n",
      "Try using .loc[row_indexer,col_indexer] = value instead\n",
      "\n",
      "See the caveats in the documentation: https://pandas.pydata.org/pandas-docs/stable/user_guide/indexing.html#returning-a-view-versus-a-copy\n",
      "  region_signal[\"variant\"] = (\n",
      "/var/folders/g4/mx686c290ms3_t_t0prfdknc0000gn/T/ipykernel_1328/825445506.py:58: SettingWithCopyWarning: \n",
      "A value is trying to be set on a copy of a slice from a DataFrame.\n",
      "Try using .loc[row_indexer,col_indexer] = value instead\n",
      "\n",
      "See the caveats in the documentation: https://pandas.pydata.org/pandas-docs/stable/user_guide/indexing.html#returning-a-view-versus-a-copy\n",
      "  region_signal[\"z\"] = region_signal[gwas.beta_col] / region_signal[gwas.se_col]\n",
      "/var/folders/g4/mx686c290ms3_t_t0prfdknc0000gn/T/ipykernel_1328/825445506.py:59: SettingWithCopyWarning: \n",
      "A value is trying to be set on a copy of a slice from a DataFrame.\n",
      "Try using .loc[row_indexer,col_indexer] = value instead\n",
      "\n",
      "See the caveats in the documentation: https://pandas.pydata.org/pandas-docs/stable/user_guide/indexing.html#returning-a-view-versus-a-copy\n",
      "  region_signal[\"V\"] = region_signal[gwas.se_col] ** 2\n"
     ]
    }
   ],
   "source": [
    "\n",
    "def approx_bf_estimates(variant, z, V, type, suffix=None, sdY=1, effect_priors={'quant': 0.15, 'cc': 0.2}):\n",
    "    sd_prior = effect_priors['quant'] * sdY if type == \"quant\" else effect_priors['cc']\n",
    "    \n",
    "    r = sd_prior**2 / (sd_prior**2 + V)\n",
    "    lABF = 0.5 * (np.log(1 - r) + (r * z**2))\n",
    "    \n",
    "    ret = pd.DataFrame({\"variant\": variant, 'lbf': lABF})\n",
    "    \n",
    "    if suffix is not None:\n",
    "        ret.columns = [f\"{col}.{suffix}\" for col in ret.columns]\n",
    "\n",
    "    ret.loc[:, 'lbf'] = pd.to_numeric(ret['lbf'], errors='coerce')\n",
    "\n",
    "    ret_mat = pd.DataFrame(ret.set_index('variant')['lbf']).T\n",
    "\n",
    "    return ret_mat\n",
    "\n",
    "os.makedirs(gwas_signals_directory, exist_ok=True)\n",
    "\n",
    "for gwas in gwas_input_table.itertuples(index=False):\n",
    "\n",
    "    lead_variants = pd.read_csv(gwas.leads, sep=\"\\t\")\n",
    "\n",
    "    gwas_name = gwas.GWAS\n",
    "\n",
    "    summary_rows = []\n",
    "\n",
    "    if gwas.file_type == \"parquet\":\n",
    "        gwas_df = pd.read_parquet(\n",
    "            gwas.GWAS_path\n",
    "        )\n",
    "    elif gwas.file_type == \"tsv\":\n",
    "        gwas_df = pd.read_csv(\n",
    "            gwas.GWAS_path, sep=\"\\t\"\n",
    "        )\n",
    "    else:\n",
    "        print(f\"Invalid file type for {gwas.GWAS_path}\")\n",
    "        continue\n",
    "\n",
    "    for region in lead_variants.itertuples(index=False):\n",
    "        chrom = getattr(region, gwas.chr_col)\n",
    "        region_start = getattr(region, gwas.pos_col) - 500_000\n",
    "        region_end = getattr(region, gwas.pos_col) + 500_000\n",
    "\n",
    "        region_gwas = gwas_df[gwas_df[gwas.chr_col] == chrom]\n",
    "\n",
    "        chrom_label = \"X\" if chrom == 23 else str(chrom)\n",
    "\n",
    "        region_signal = region_gwas[(region_gwas[gwas.pos_col] >= region_start) & (region_gwas[gwas.pos_col] <= region_end)]\n",
    "\n",
    "        region_signal[\"variant\"] = (\n",
    "            \"chr\" + chrom_label + \"_\" +\n",
    "            region_signal[gwas.pos_col].astype(int).astype(str) + \"_\" +\n",
    "            region_signal[gwas.ref_col].astype(str) + \"_\" +\n",
    "            region_signal[gwas.alt_col].astype(str)\n",
    "        )\n",
    "\n",
    "        region_signal[\"z\"] = region_signal[gwas.beta_col] / region_signal[gwas.se_col]\n",
    "        region_signal[\"V\"] = region_signal[gwas.se_col] ** 2\n",
    "\n",
    "        mat = approx_bf_estimates(region_signal[\"variant\"],region_signal[\"z\"], region_signal[\"V\"], \"quant\") \n",
    "        \n",
    "        signal_strength = mat.T[\"lbf\"].max()\n",
    "        variant_id = mat.T[\"lbf\"].idxmax()\n",
    "\n",
    "        if signal_strength < 5:\n",
    "            continue\n",
    "\n",
    "        signal = f\"{gwas_name}_chr{chrom_label}:{region_start}-{region_end}\"\n",
    "\n",
    "        summary_data = pd.DataFrame([{\n",
    "            'signal': signal,\n",
    "            'chromosome': chrom_label,\n",
    "            'location_min': region_start,\n",
    "            'location_max': region_end,\n",
    "            'signal_strength': signal_strength,\n",
    "            'lead_variant': variant_id\n",
    "        }])\n",
    "\n",
    "        header_needed = not os.path.exists(gwas_summary_file)  \n",
    "        summary_data.to_csv(gwas_summary_file, sep='\\t', mode='a', header=header_needed, index=False)\n",
    "\n",
    "        output_file_name = f\"{signal}.pickle\"\n",
    "        output_file_path = os.path.join(gwas_signals_directory, output_file_name)\n",
    "\n",
    "        mat.to_pickle(output_file_path)"
   ]
  },
  {
   "cell_type": "markdown",
   "id": "7307c740",
   "metadata": {},
   "source": [
    "The summary file will have the following structure:"
   ]
  },
  {
   "cell_type": "code",
   "execution_count": 39,
   "id": "b3247d31",
   "metadata": {},
   "outputs": [
    {
     "data": {
      "text/html": [
       "<div>\n",
       "<style scoped>\n",
       "    .dataframe tbody tr th:only-of-type {\n",
       "        vertical-align: middle;\n",
       "    }\n",
       "\n",
       "    .dataframe tbody tr th {\n",
       "        vertical-align: top;\n",
       "    }\n",
       "\n",
       "    .dataframe thead th {\n",
       "        text-align: right;\n",
       "    }\n",
       "</style>\n",
       "<table border=\"1\" class=\"dataframe\">\n",
       "  <thead>\n",
       "    <tr style=\"text-align: right;\">\n",
       "      <th></th>\n",
       "      <th>signal</th>\n",
       "      <th>chromosome</th>\n",
       "      <th>location_min</th>\n",
       "      <th>location_max</th>\n",
       "      <th>signal_strength</th>\n",
       "      <th>lead_variant</th>\n",
       "    </tr>\n",
       "  </thead>\n",
       "  <tbody>\n",
       "    <tr>\n",
       "      <th>0</th>\n",
       "      <td>L_HDL_C_pct_chrX:153853564-154853564</td>\n",
       "      <td>X</td>\n",
       "      <td>153853564</td>\n",
       "      <td>154853564</td>\n",
       "      <td>36.674323</td>\n",
       "      <td>chrX_154353564_A_G</td>\n",
       "    </tr>\n",
       "  </tbody>\n",
       "</table>\n",
       "</div>"
      ],
      "text/plain": [
       "                                 signal chromosome  location_min  \\\n",
       "0  L_HDL_C_pct_chrX:153853564-154853564          X     153853564   \n",
       "\n",
       "   location_max  signal_strength        lead_variant  \n",
       "0     154853564        36.674323  chrX_154353564_A_G  "
      ]
     },
     "execution_count": 39,
     "metadata": {},
     "output_type": "execute_result"
    }
   ],
   "source": [
    "pd.read_csv(gwas_summary_file, sep='\\t')"
   ]
  },
  {
   "cell_type": "markdown",
   "id": "6e6b2de7",
   "metadata": {},
   "source": [
    "Each signal `.pickle` file will contain log Bayes factors (lbf) as shown below:"
   ]
  },
  {
   "cell_type": "code",
   "execution_count": 40,
   "id": "1e6f2157",
   "metadata": {},
   "outputs": [
    {
     "data": {
      "text/html": [
       "<div>\n",
       "<style scoped>\n",
       "    .dataframe tbody tr th:only-of-type {\n",
       "        vertical-align: middle;\n",
       "    }\n",
       "\n",
       "    .dataframe tbody tr th {\n",
       "        vertical-align: top;\n",
       "    }\n",
       "\n",
       "    .dataframe thead th {\n",
       "        text-align: right;\n",
       "    }\n",
       "</style>\n",
       "<table border=\"1\" class=\"dataframe\">\n",
       "  <thead>\n",
       "    <tr style=\"text-align: right;\">\n",
       "      <th>variant</th>\n",
       "      <th>chrX_153853745_C_A</th>\n",
       "      <th>chrX_153853745_C_T</th>\n",
       "      <th>chrX_153855200_G_A</th>\n",
       "      <th>chrX_153855237_A_C</th>\n",
       "      <th>chrX_153855261_C_T</th>\n",
       "      <th>chrX_153855525_G_A</th>\n",
       "      <th>chrX_153855834_G_A</th>\n",
       "      <th>chrX_153855847_C_T</th>\n",
       "      <th>chrX_153856109_C_T</th>\n",
       "      <th>chrX_153856795_T_A</th>\n",
       "      <th>...</th>\n",
       "      <th>chrX_154852253_G_A</th>\n",
       "      <th>chrX_154852266_C_T</th>\n",
       "      <th>chrX_154852488_C_T</th>\n",
       "      <th>chrX_154852865_C_T</th>\n",
       "      <th>chrX_154852868_C_T</th>\n",
       "      <th>chrX_154852903_A_C</th>\n",
       "      <th>chrX_154853089_C_A</th>\n",
       "      <th>chrX_154853104_T_C</th>\n",
       "      <th>chrX_154853179_G_A</th>\n",
       "      <th>chrX_154853402_G_A</th>\n",
       "    </tr>\n",
       "  </thead>\n",
       "  <tbody>\n",
       "    <tr>\n",
       "      <th>lbf</th>\n",
       "      <td>-0.89635</td>\n",
       "      <td>-2.834458</td>\n",
       "      <td>-0.059966</td>\n",
       "      <td>0.327294</td>\n",
       "      <td>0.228286</td>\n",
       "      <td>-0.833013</td>\n",
       "      <td>-2.840194</td>\n",
       "      <td>-0.98884</td>\n",
       "      <td>-2.572531</td>\n",
       "      <td>-1.707554</td>\n",
       "      <td>...</td>\n",
       "      <td>-1.029522</td>\n",
       "      <td>-0.370217</td>\n",
       "      <td>-0.772423</td>\n",
       "      <td>0.133273</td>\n",
       "      <td>-0.901668</td>\n",
       "      <td>-0.401849</td>\n",
       "      <td>-0.425781</td>\n",
       "      <td>-0.356414</td>\n",
       "      <td>-0.262577</td>\n",
       "      <td>-0.369968</td>\n",
       "    </tr>\n",
       "  </tbody>\n",
       "</table>\n",
       "<p>1 rows × 12791 columns</p>\n",
       "</div>"
      ],
      "text/plain": [
       "variant  chrX_153853745_C_A  chrX_153853745_C_T  chrX_153855200_G_A  \\\n",
       "lbf                -0.89635           -2.834458           -0.059966   \n",
       "\n",
       "variant  chrX_153855237_A_C  chrX_153855261_C_T  chrX_153855525_G_A  \\\n",
       "lbf                0.327294            0.228286           -0.833013   \n",
       "\n",
       "variant  chrX_153855834_G_A  chrX_153855847_C_T  chrX_153856109_C_T  \\\n",
       "lbf               -2.840194            -0.98884           -2.572531   \n",
       "\n",
       "variant  chrX_153856795_T_A  ...  chrX_154852253_G_A  chrX_154852266_C_T  \\\n",
       "lbf               -1.707554  ...           -1.029522           -0.370217   \n",
       "\n",
       "variant  chrX_154852488_C_T  chrX_154852865_C_T  chrX_154852868_C_T  \\\n",
       "lbf               -0.772423            0.133273           -0.901668   \n",
       "\n",
       "variant  chrX_154852903_A_C  chrX_154853089_C_A  chrX_154853104_T_C  \\\n",
       "lbf               -0.401849           -0.425781           -0.356414   \n",
       "\n",
       "variant  chrX_154853179_G_A  chrX_154853402_G_A  \n",
       "lbf               -0.262577           -0.369968  \n",
       "\n",
       "[1 rows x 12791 columns]"
      ]
     },
     "execution_count": 40,
     "metadata": {},
     "output_type": "execute_result"
    }
   ],
   "source": [
    "pd.read_pickle(\"example/gwas_signals/L_HDL_C_pct_chrX:153853564-154853564.pickle\")"
   ]
  },
  {
   "cell_type": "markdown",
   "id": "e4c203e6",
   "metadata": {},
   "source": [
    "Repeat the same steps for the second dataset (e.g., eQTL)."
   ]
  },
  {
   "cell_type": "code",
   "execution_count": 41,
   "id": "96ff88e4",
   "metadata": {},
   "outputs": [],
   "source": [
    "def process_gwas_file(file_path, directory_name, mat_dir, summary_file_path):\n",
    "    os.makedirs(mat_dir, exist_ok=True)\n",
    "\n",
    "    try:\n",
    "        df = pd.read_csv(file_path, sep='\\t', low_memory=False, on_bad_lines='skip')\n",
    "    except Exception as e:\n",
    "        print(f\"Error reading file {file_path}: {e}\")\n",
    "        return\n",
    "\n",
    "    trait_data = df.groupby(df['molecular_trait_id'])\n",
    "    \n",
    "    for trait_id, group in trait_data:\n",
    "        for i in range(1, 11):\n",
    "            lbf_column = f'lbf_variable{i}'\n",
    "            if lbf_column in group.columns:\n",
    "                process_signal(group, directory_name, trait_id, mat_dir, lbf_column, i, summary_file_path)\n",
    "\n",
    "def process_signal(group, directory_name, trait_id, mat_dir, lbf_column, lbf_index, summary_file_path):\n",
    "    df_filtered = group[['molecular_trait_id', 'region', 'variant', 'chromosome', 'position', lbf_column]].copy()\n",
    "    df_filtered.rename(columns={lbf_column: 'lbf'}, inplace=True)\n",
    "    \n",
    "    if (df_filtered['lbf'] == 0).all():\n",
    "        return\n",
    "    \n",
    "    signal_strength = df_filtered['lbf'].abs().max()\n",
    "\n",
    "    if signal_strength < 5:\n",
    "        return\n",
    "        \n",
    "    chromosome = df_filtered['chromosome'].astype(str).iloc[0]\n",
    "\n",
    "    location_min = df_filtered['position'].min()\n",
    "    location_max = df_filtered['position'].max()\n",
    "\n",
    "    signal = f\"{directory_name}_{trait_id}_L{lbf_index}\"\n",
    "    output_file_name = f\"{signal}.pickle\"\n",
    "    output_file_path = os.path.join(mat_dir, output_file_name)\n",
    "\n",
    "    df_filtered['lbf'] = pd.to_numeric(df_filtered['lbf'], errors='coerce')\n",
    "\n",
    "    mat1_df = pd.DataFrame(df_filtered.set_index('variant')['lbf']).T\n",
    "    variant_id = mat1_df.T[\"lbf\"].idxmax()\n",
    "\n",
    "    mat1_df.to_pickle(output_file_path)\n",
    "\n",
    "    summary_data = pd.DataFrame([{\n",
    "        'signal': signal,\n",
    "        'chromosome': chromosome,\n",
    "        'location_min': location_min,\n",
    "        'location_max': location_max,\n",
    "        'signal_strength': signal_strength,\n",
    "        'lead_variant': variant_id\n",
    "    }])\n",
    "    \n",
    "    header_needed = not os.path.exists(summary_file_path)  \n",
    "    summary_data.to_csv(summary_file_path, sep='\\t', mode='a', header=header_needed, index=False)\n",
    "\n",
    "eqtl_table = pd.read_csv(\"example_data/example_eQTL_table.tsv\", sep='\\t')\n",
    "eqtl_signals_directory = \"example/eqtl_signals\"\n",
    "os.makedirs(eqtl_signals_directory, exist_ok=True)\n",
    "\n",
    "eqtl_summary_file = \"example/eqtl_summary.tsv\"\n",
    "\n",
    "for row in eqtl_table.itertuples(index=False):\n",
    "    dataset_id = row.id\n",
    "    file_path = row.path\n",
    "    process_gwas_file(file_path, dataset_id, eqtl_signals_directory, eqtl_summary_file)"
   ]
  },
  {
   "cell_type": "markdown",
   "id": "9194f27f",
   "metadata": {},
   "source": [
    "Format the saved signals using the `gpu-coloc` formatting tool:"
   ]
  },
  {
   "cell_type": "code",
   "execution_count": 42,
   "id": "099de39c",
   "metadata": {},
   "outputs": [
    {
     "name": "stdout",
     "output_type": "stream",
     "text": [
      "Processing chromosomes: 100%|█████████████████████| 1/1 [00:00<00:00,  1.19it/s]\n",
      "Done.\n",
      "Processing chromosomes: 100%|█████████████████████| 1/1 [00:00<00:00,  3.48it/s]\n",
      "Done.\n"
     ]
    }
   ],
   "source": [
    "!gpu-coloc -f --input example/gwas_signals --output example/formatted_gwas --input_summary example/gwas_summary.tsv --output_summary example/gwas_files_summary.tsv\n",
    "!gpu-coloc -f --input example/eqtl_signals --output example/formatted_eqtls --input_summary example/eqtl_summary.tsv --output_summary example/eqtl_files_summary.tsv"
   ]
  },
  {
   "cell_type": "markdown",
   "id": "fc7e4e1a",
   "metadata": {},
   "source": [
    "Run `gpu-coloc` using the following command:"
   ]
  },
  {
   "cell_type": "code",
   "execution_count": 43,
   "id": "5ce905cc",
   "metadata": {},
   "outputs": [
    {
     "name": "stdout",
     "output_type": "stream",
     "text": [
      "chromosomes:   0%|                                        | 0/1 [00:00<?, ?it/s]\n",
      "processing met:   0%|                                     | 0/2 [00:00<?, ?it/s]\u001b[A\n",
      "\n",
      "running files:   0%|                                      | 0/1 [00:00<?, ?it/s]\u001b[A\u001b[A\n",
      "\n",
      "\n",
      "All chunk pairs:   0%|                                    | 0/1 [00:00<?, ?it/s]\u001b[A\u001b[A\u001b[A\n",
      "\n",
      "\n",
      "All chunk pairs: 100%|████████████████████████████| 1/1 [00:00<00:00,  6.25it/s]\u001b[A\u001b[A\u001b[A\n",
      "\n",
      "\n",
      "                                                                                \u001b[A\u001b[A\u001b[A\n",
      "\n",
      "running files: 100%|██████████████████████████████| 1/1 [00:00<00:00,  5.84it/s]\u001b[A\u001b[A\n",
      "\n",
      "                                                                                \u001b[A\u001b[A\n",
      "processing met:  50%|██████████████▌              | 1/2 [00:00<00:00,  5.80it/s]\u001b[A\n",
      "\n",
      "running files:   0%|                                      | 0/1 [00:00<?, ?it/s]\u001b[A\u001b[APossible error in trim function\n",
      "\n",
      "\n",
      "                                                                                \u001b[A\u001b[A\n",
      "chromosomes: 100%|████████████████████████████████| 1/1 [00:00<00:00,  1.13it/s]\u001b[A\n",
      "chromosomes: 0it [00:00, ?it/s]\n"
     ]
    }
   ],
   "source": [
    "!gpu-coloc -r --dir1 example/formatted_eqtls --dir2 example/formatted_gwas --results example/example_results.tsv --p12 1e-6 --H4 0.8"
   ]
  },
  {
   "cell_type": "markdown",
   "id": "fde98f90",
   "metadata": {},
   "source": [
    "The results can be viewed in the final output file:"
   ]
  },
  {
   "cell_type": "code",
   "execution_count": 44,
   "id": "68582f71",
   "metadata": {},
   "outputs": [
    {
     "data": {
      "text/html": [
       "<div>\n",
       "<style scoped>\n",
       "    .dataframe tbody tr th:only-of-type {\n",
       "        vertical-align: middle;\n",
       "    }\n",
       "\n",
       "    .dataframe tbody tr th {\n",
       "        vertical-align: top;\n",
       "    }\n",
       "\n",
       "    .dataframe thead th {\n",
       "        text-align: right;\n",
       "    }\n",
       "</style>\n",
       "<table border=\"1\" class=\"dataframe\">\n",
       "  <thead>\n",
       "    <tr style=\"text-align: right;\">\n",
       "      <th></th>\n",
       "      <th>PP.H3</th>\n",
       "      <th>PP.H4</th>\n",
       "      <th>signal1</th>\n",
       "      <th>lead1</th>\n",
       "      <th>signal2</th>\n",
       "      <th>lead2</th>\n",
       "    </tr>\n",
       "  </thead>\n",
       "  <tbody>\n",
       "    <tr>\n",
       "      <th>0</th>\n",
       "      <td>0.102638</td>\n",
       "      <td>0.897362</td>\n",
       "      <td>QTD000141_ENSG00000147403_L1</td>\n",
       "      <td>chrX_154356517_C_A</td>\n",
       "      <td>L_HDL_C_pct_chrX:153853564-154853564</td>\n",
       "      <td>chrX_154353564_A_G</td>\n",
       "    </tr>\n",
       "  </tbody>\n",
       "</table>\n",
       "</div>"
      ],
      "text/plain": [
       "      PP.H3     PP.H4                       signal1               lead1  \\\n",
       "0  0.102638  0.897362  QTD000141_ENSG00000147403_L1  chrX_154356517_C_A   \n",
       "\n",
       "                                signal2               lead2  \n",
       "0  L_HDL_C_pct_chrX:153853564-154853564  chrX_154353564_A_G  "
      ]
     },
     "execution_count": 44,
     "metadata": {},
     "output_type": "execute_result"
    }
   ],
   "source": [
    "pd.read_csv(\"example/example_results.tsv\", sep=\"\\t\")"
   ]
  }
 ],
 "metadata": {
  "kernelspec": {
   "display_name": "Python 3",
   "language": "python",
   "name": "python3"
  },
  "language_info": {
   "codemirror_mode": {
    "name": "ipython",
    "version": 3
   },
   "file_extension": ".py",
   "mimetype": "text/x-python",
   "name": "python",
   "nbconvert_exporter": "python",
   "pygments_lexer": "ipython3",
   "version": "3.12.3"
  }
 },
 "nbformat": 4,
 "nbformat_minor": 5
}
